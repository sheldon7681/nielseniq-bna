{
 "cells": [
  {
   "cell_type": "code",
   "execution_count": 25,
   "metadata": {},
   "outputs": [
    {
     "data": {
      "text/html": [
       "<div>\n",
       "<style scoped>\n",
       "    .dataframe tbody tr th:only-of-type {\n",
       "        vertical-align: middle;\n",
       "    }\n",
       "\n",
       "    .dataframe tbody tr th {\n",
       "        vertical-align: top;\n",
       "    }\n",
       "\n",
       "    .dataframe thead th {\n",
       "        text-align: right;\n",
       "    }\n",
       "</style>\n",
       "<table border=\"1\" class=\"dataframe\">\n",
       "  <thead>\n",
       "    <tr style=\"text-align: right;\">\n",
       "      <th></th>\n",
       "      <th>Mercado</th>\n",
       "      <th>Categoria</th>\n",
       "      <th>Presentacion</th>\n",
       "      <th>Fecha</th>\n",
       "      <th>Sabor</th>\n",
       "      <th>Dist. Num.</th>\n",
       "      <th>Precio EQ2 Promedio</th>\n",
       "      <th>Precio Unds Promedio</th>\n",
       "      <th>Vtas Unds</th>\n",
       "      <th>Vtas Valor</th>\n",
       "      <th>Vtas Volumen</th>\n",
       "    </tr>\n",
       "  </thead>\n",
       "  <tbody>\n",
       "    <tr>\n",
       "      <th>40582</th>\n",
       "      <td>Mexico</td>\n",
       "      <td>AGUA NATURAL</td>\n",
       "      <td>FAMILIAR</td>\n",
       "      <td>2021-12-01</td>\n",
       "      <td>NOT APPLICABLE</td>\n",
       "      <td>49.640361</td>\n",
       "      <td>26.455</td>\n",
       "      <td>26.455</td>\n",
       "      <td>8.678932e+06</td>\n",
       "      <td>2.295996e+08</td>\n",
       "      <td>8.678932e+06</td>\n",
       "    </tr>\n",
       "    <tr>\n",
       "      <th>40583</th>\n",
       "      <td>Mexico</td>\n",
       "      <td>AGUA NATURAL</td>\n",
       "      <td>FAMILIAR</td>\n",
       "      <td>2022-01-01</td>\n",
       "      <td>NOT APPLICABLE</td>\n",
       "      <td>49.483236</td>\n",
       "      <td>26.847</td>\n",
       "      <td>26.847</td>\n",
       "      <td>9.094049e+06</td>\n",
       "      <td>2.441441e+08</td>\n",
       "      <td>9.094049e+06</td>\n",
       "    </tr>\n",
       "    <tr>\n",
       "      <th>40584</th>\n",
       "      <td>Mexico</td>\n",
       "      <td>AGUA NATURAL</td>\n",
       "      <td>FAMILIAR</td>\n",
       "      <td>2022-02-01</td>\n",
       "      <td>NOT APPLICABLE</td>\n",
       "      <td>48.184131</td>\n",
       "      <td>27.182</td>\n",
       "      <td>27.182</td>\n",
       "      <td>7.895758e+06</td>\n",
       "      <td>2.146197e+08</td>\n",
       "      <td>7.895758e+06</td>\n",
       "    </tr>\n",
       "    <tr>\n",
       "      <th>40585</th>\n",
       "      <td>Mexico</td>\n",
       "      <td>AGUA NATURAL</td>\n",
       "      <td>FAMILIAR</td>\n",
       "      <td>2022-03-01</td>\n",
       "      <td>NOT APPLICABLE</td>\n",
       "      <td>50.726610</td>\n",
       "      <td>27.328</td>\n",
       "      <td>27.328</td>\n",
       "      <td>9.578185e+06</td>\n",
       "      <td>2.617485e+08</td>\n",
       "      <td>9.578185e+06</td>\n",
       "    </tr>\n",
       "    <tr>\n",
       "      <th>40586</th>\n",
       "      <td>Mexico</td>\n",
       "      <td>AGUA NATURAL</td>\n",
       "      <td>FAMILIAR</td>\n",
       "      <td>2022-04-01</td>\n",
       "      <td>NOT APPLICABLE</td>\n",
       "      <td>51.805138</td>\n",
       "      <td>27.489</td>\n",
       "      <td>27.489</td>\n",
       "      <td>1.078616e+07</td>\n",
       "      <td>2.965004e+08</td>\n",
       "      <td>1.078616e+07</td>\n",
       "    </tr>\n",
       "    <tr>\n",
       "      <th>...</th>\n",
       "      <td>...</td>\n",
       "      <td>...</td>\n",
       "      <td>...</td>\n",
       "      <td>...</td>\n",
       "      <td>...</td>\n",
       "      <td>...</td>\n",
       "      <td>...</td>\n",
       "      <td>...</td>\n",
       "      <td>...</td>\n",
       "      <td>...</td>\n",
       "      <td>...</td>\n",
       "    </tr>\n",
       "    <tr>\n",
       "      <th>49405</th>\n",
       "      <td>Mexico</td>\n",
       "      <td>TE LISTO PARA BEBER</td>\n",
       "      <td>PACK</td>\n",
       "      <td>2024-08-01</td>\n",
       "      <td>KOMBUCHA/OTR. SABORES</td>\n",
       "      <td>0.000084</td>\n",
       "      <td>150.000</td>\n",
       "      <td>150.000</td>\n",
       "      <td>1.000000e+00</td>\n",
       "      <td>1.500000e+02</td>\n",
       "      <td>1.000000e+00</td>\n",
       "    </tr>\n",
       "    <tr>\n",
       "      <th>49406</th>\n",
       "      <td>Mexico</td>\n",
       "      <td>TE LISTO PARA BEBER</td>\n",
       "      <td>PACK</td>\n",
       "      <td>2024-10-01</td>\n",
       "      <td>NEGRO/LIMON</td>\n",
       "      <td>0.000084</td>\n",
       "      <td>2.592</td>\n",
       "      <td>2.592</td>\n",
       "      <td>1.000000e+00</td>\n",
       "      <td>2.592000e+00</td>\n",
       "      <td>1.000000e+00</td>\n",
       "    </tr>\n",
       "    <tr>\n",
       "      <th>49407</th>\n",
       "      <td>Mexico</td>\n",
       "      <td>TE LISTO PARA BEBER</td>\n",
       "      <td>PACK</td>\n",
       "      <td>2024-10-01</td>\n",
       "      <td>VERDE/LIMON</td>\n",
       "      <td>0.000084</td>\n",
       "      <td>2.592</td>\n",
       "      <td>2.592</td>\n",
       "      <td>1.000000e+00</td>\n",
       "      <td>2.592000e+00</td>\n",
       "      <td>1.000000e+00</td>\n",
       "    </tr>\n",
       "    <tr>\n",
       "      <th>49408</th>\n",
       "      <td>Mexico</td>\n",
       "      <td>TE LISTO PARA BEBER</td>\n",
       "      <td>PACK</td>\n",
       "      <td>2024-12-01</td>\n",
       "      <td>OTR. TIPOS/OTR. SABORES</td>\n",
       "      <td>0.000084</td>\n",
       "      <td>24.440</td>\n",
       "      <td>24.440</td>\n",
       "      <td>1.000000e+00</td>\n",
       "      <td>2.444000e+01</td>\n",
       "      <td>1.000000e+00</td>\n",
       "    </tr>\n",
       "    <tr>\n",
       "      <th>49409</th>\n",
       "      <td>Mexico</td>\n",
       "      <td>TE LISTO PARA BEBER</td>\n",
       "      <td>PACK</td>\n",
       "      <td>2024-12-01</td>\n",
       "      <td>VERDE/LIMON</td>\n",
       "      <td>0.000084</td>\n",
       "      <td>14.820</td>\n",
       "      <td>14.820</td>\n",
       "      <td>1.000000e+00</td>\n",
       "      <td>1.482000e+01</td>\n",
       "      <td>1.000000e+00</td>\n",
       "    </tr>\n",
       "  </tbody>\n",
       "</table>\n",
       "<p>8828 rows × 11 columns</p>\n",
       "</div>"
      ],
      "text/plain": [
       "      Mercado            Categoria Presentacion       Fecha  \\\n",
       "40582  Mexico         AGUA NATURAL     FAMILIAR  2021-12-01   \n",
       "40583  Mexico         AGUA NATURAL     FAMILIAR  2022-01-01   \n",
       "40584  Mexico         AGUA NATURAL     FAMILIAR  2022-02-01   \n",
       "40585  Mexico         AGUA NATURAL     FAMILIAR  2022-03-01   \n",
       "40586  Mexico         AGUA NATURAL     FAMILIAR  2022-04-01   \n",
       "...       ...                  ...          ...         ...   \n",
       "49405  Mexico  TE LISTO PARA BEBER         PACK  2024-08-01   \n",
       "49406  Mexico  TE LISTO PARA BEBER         PACK  2024-10-01   \n",
       "49407  Mexico  TE LISTO PARA BEBER         PACK  2024-10-01   \n",
       "49408  Mexico  TE LISTO PARA BEBER         PACK  2024-12-01   \n",
       "49409  Mexico  TE LISTO PARA BEBER         PACK  2024-12-01   \n",
       "\n",
       "                         Sabor  Dist. Num.  Precio EQ2 Promedio  \\\n",
       "40582           NOT APPLICABLE   49.640361               26.455   \n",
       "40583           NOT APPLICABLE   49.483236               26.847   \n",
       "40584           NOT APPLICABLE   48.184131               27.182   \n",
       "40585           NOT APPLICABLE   50.726610               27.328   \n",
       "40586           NOT APPLICABLE   51.805138               27.489   \n",
       "...                        ...         ...                  ...   \n",
       "49405    KOMBUCHA/OTR. SABORES    0.000084              150.000   \n",
       "49406              NEGRO/LIMON    0.000084                2.592   \n",
       "49407              VERDE/LIMON    0.000084                2.592   \n",
       "49408  OTR. TIPOS/OTR. SABORES    0.000084               24.440   \n",
       "49409              VERDE/LIMON    0.000084               14.820   \n",
       "\n",
       "       Precio Unds Promedio     Vtas Unds    Vtas Valor  Vtas Volumen  \n",
       "40582                26.455  8.678932e+06  2.295996e+08  8.678932e+06  \n",
       "40583                26.847  9.094049e+06  2.441441e+08  9.094049e+06  \n",
       "40584                27.182  7.895758e+06  2.146197e+08  7.895758e+06  \n",
       "40585                27.328  9.578185e+06  2.617485e+08  9.578185e+06  \n",
       "40586                27.489  1.078616e+07  2.965004e+08  1.078616e+07  \n",
       "...                     ...           ...           ...           ...  \n",
       "49405               150.000  1.000000e+00  1.500000e+02  1.000000e+00  \n",
       "49406                 2.592  1.000000e+00  2.592000e+00  1.000000e+00  \n",
       "49407                 2.592  1.000000e+00  2.592000e+00  1.000000e+00  \n",
       "49408                24.440  1.000000e+00  2.444000e+01  1.000000e+00  \n",
       "49409                14.820  1.000000e+00  1.482000e+01  1.000000e+00  \n",
       "\n",
       "[8828 rows x 11 columns]"
      ]
     },
     "execution_count": 25,
     "metadata": {},
     "output_type": "execute_result"
    }
   ],
   "source": [
    "import pandas as pd\n",
    "import plotly.graph_objects as go\n",
    "\n",
    "df = pd.read_csv(\"../data/bebidas-no-alcoholicas-pivot.csv\").query(\n",
    "    \"Mercado == 'Mexico'\"\n",
    ")\n",
    "\n",
    "df"
   ]
  },
  {
   "cell_type": "markdown",
   "metadata": {},
   "source": [
    "## ¿Cómo ha sido la evolución entre refrescos de colas y sabores?"
   ]
  },
  {
   "cell_type": "code",
   "execution_count": 20,
   "metadata": {},
   "outputs": [
    {
     "data": {
      "application/vnd.plotly.v1+json": {
       "config": {
        "plotlyServerURL": "https://plot.ly"
       },
       "data": [
        {
         "marker": {
          "symbol": "star"
         },
         "mode": "markers+lines",
         "name": "Cola",
         "type": "scatter",
         "x": [
          "2021-12-01",
          "2022-01-01",
          "2022-02-01",
          "2022-03-01",
          "2022-04-01",
          "2022-05-01",
          "2022-06-01",
          "2022-07-01",
          "2022-08-01",
          "2022-09-01",
          "2022-10-01",
          "2022-11-01",
          "2022-12-01",
          "2023-01-01",
          "2023-02-01",
          "2023-03-01",
          "2023-04-01",
          "2023-05-01",
          "2023-06-01",
          "2023-07-01",
          "2023-08-01",
          "2023-09-01",
          "2023-10-01",
          "2023-11-01",
          "2023-12-01",
          "2024-01-01",
          "2024-02-01",
          "2024-03-01",
          "2024-04-01",
          "2024-05-01",
          "2024-06-01",
          "2024-07-01",
          "2024-08-01",
          "2024-09-01",
          "2024-10-01",
          "2024-11-01",
          "2024-12-01"
         ],
         "y": {
          "bdata": "7Xz+RqsAC0IOLUIZtCQKQkjhl2eusQdCJQZAqFWDC0LhernjEZUMQpdu1z4+DA9Cheupk8qwDkKgGqN21PkPQkjhYQPK1g9CEFhTRDJ6DkIEVr+9eoIOQuOlpzkZQA1CTmIJ+OBVDkK0yK7wrsINQpmZPeNQAwtCuR4lLYICD0LdJMQFatwPQv5UmhrbyRBC831gBmUXEUIpXPALvUUSQtcjt/lNtxFCSGFaQYgnEULNzEAua0ERQpqZvB9vLRBCCle521dyEEJYuVc+swYQQuOllEjA+g5CGQTi4dLKEULNzCNv18ARQsn2CpnCehNCI9u1iieQE0IUrmu+dCMTQmu8EIAsKxNCZLuodm2YEkI/Na1qGp4SQsj2ZhkZGhJCqvHEwYQ+EkI=",
          "dtype": "f8"
         }
        },
        {
         "marker": {
          "symbol": "star"
         },
         "mode": "markers+lines",
         "name": "Otros sabores",
         "type": "scatter",
         "x": [
          "2021-12-01",
          "2022-01-01",
          "2022-02-01",
          "2022-03-01",
          "2022-04-01",
          "2022-05-01",
          "2022-06-01",
          "2022-07-01",
          "2022-08-01",
          "2022-09-01",
          "2022-10-01",
          "2022-11-01",
          "2022-12-01",
          "2023-01-01",
          "2023-02-01",
          "2023-03-01",
          "2023-04-01",
          "2023-05-01",
          "2023-06-01",
          "2023-07-01",
          "2023-08-01",
          "2023-09-01",
          "2023-10-01",
          "2023-11-01",
          "2023-12-01",
          "2024-01-01",
          "2024-02-01",
          "2024-03-01",
          "2024-04-01",
          "2024-05-01",
          "2024-06-01",
          "2024-07-01",
          "2024-08-01",
          "2024-09-01",
          "2024-10-01",
          "2024-11-01",
          "2024-12-01"
         ],
         "y": {
          "bdata": "sHLOorePCEKamT8BbJ4IQj0K54k8lgVCeenfi+N9CkLfT4PSq/oMQnE9Dm8wUBBC16MRmwolD0KJQa9axKoPQka2VAOcMA5Cz/en/B+ADEL4U1J8H+MLQgis4vbw+QpC+n6ZXccdDEI4iW58FBMMQn0/G5voLwlCbeeRGEEyDkKTGFskJH8PQh8FM+FL8BBCMzP1CX1tEkLRooL4EW0SQj+1B1rNGhFCgZWUDruZEEJSuPO8cDMQQqRwSKzooA1C/tTTYcEeDkLXo6mFh0AOQgRWYQULBw1Cy6Hu5EyKEUKgmhtjKMoRQmKQemG43RRC5/sn8ZqpFEJ7FDu3p1ESQlRjdkSuMBJCnm/T3yCwEUIlhi9isQoRQjeJkNDZoRBCqnFDlOr/EEI=",
          "dtype": "f8"
         }
        }
       ],
       "layout": {
        "barcornerradius": 5,
        "paper_bgcolor": "rgba(0,0,0,0)",
        "plot_bgcolor": "rgba(0,0,0,0)",
        "shapes": [
         {
          "fillcolor": "blue",
          "layer": "below",
          "line": {
           "width": 0
          },
          "opacity": 0.1,
          "type": "rect",
          "x0": "2022-01-01",
          "x1": "2022-12-31",
          "xref": "x",
          "y0": 0,
          "y1": 1,
          "yref": "y domain"
         },
         {
          "fillcolor": "gray",
          "layer": "below",
          "line": {
           "width": 0
          },
          "opacity": 0.1,
          "type": "rect",
          "x0": "2023-01-01",
          "x1": "2023-12-31",
          "xref": "x",
          "y0": 0,
          "y1": 1,
          "yref": "y domain"
         },
         {
          "fillcolor": "blue",
          "layer": "below",
          "line": {
           "width": 0
          },
          "opacity": 0.1,
          "type": "rect",
          "x0": "2024-01-01",
          "x1": "2024-12-31",
          "xref": "x",
          "y0": 0,
          "y1": 1,
          "yref": "y domain"
         }
        ],
        "template": {
         "data": {
          "bar": [
           {
            "error_x": {
             "color": "#2a3f5f"
            },
            "error_y": {
             "color": "#2a3f5f"
            },
            "marker": {
             "line": {
              "color": "#E5ECF6",
              "width": 0.5
             },
             "pattern": {
              "fillmode": "overlay",
              "size": 10,
              "solidity": 0.2
             }
            },
            "type": "bar"
           }
          ],
          "barpolar": [
           {
            "marker": {
             "line": {
              "color": "#E5ECF6",
              "width": 0.5
             },
             "pattern": {
              "fillmode": "overlay",
              "size": 10,
              "solidity": 0.2
             }
            },
            "type": "barpolar"
           }
          ],
          "carpet": [
           {
            "aaxis": {
             "endlinecolor": "#2a3f5f",
             "gridcolor": "white",
             "linecolor": "white",
             "minorgridcolor": "white",
             "startlinecolor": "#2a3f5f"
            },
            "baxis": {
             "endlinecolor": "#2a3f5f",
             "gridcolor": "white",
             "linecolor": "white",
             "minorgridcolor": "white",
             "startlinecolor": "#2a3f5f"
            },
            "type": "carpet"
           }
          ],
          "choropleth": [
           {
            "colorbar": {
             "outlinewidth": 0,
             "ticks": ""
            },
            "type": "choropleth"
           }
          ],
          "contour": [
           {
            "colorbar": {
             "outlinewidth": 0,
             "ticks": ""
            },
            "colorscale": [
             [
              0,
              "#0d0887"
             ],
             [
              0.1111111111111111,
              "#46039f"
             ],
             [
              0.2222222222222222,
              "#7201a8"
             ],
             [
              0.3333333333333333,
              "#9c179e"
             ],
             [
              0.4444444444444444,
              "#bd3786"
             ],
             [
              0.5555555555555556,
              "#d8576b"
             ],
             [
              0.6666666666666666,
              "#ed7953"
             ],
             [
              0.7777777777777778,
              "#fb9f3a"
             ],
             [
              0.8888888888888888,
              "#fdca26"
             ],
             [
              1,
              "#f0f921"
             ]
            ],
            "type": "contour"
           }
          ],
          "contourcarpet": [
           {
            "colorbar": {
             "outlinewidth": 0,
             "ticks": ""
            },
            "type": "contourcarpet"
           }
          ],
          "heatmap": [
           {
            "colorbar": {
             "outlinewidth": 0,
             "ticks": ""
            },
            "colorscale": [
             [
              0,
              "#0d0887"
             ],
             [
              0.1111111111111111,
              "#46039f"
             ],
             [
              0.2222222222222222,
              "#7201a8"
             ],
             [
              0.3333333333333333,
              "#9c179e"
             ],
             [
              0.4444444444444444,
              "#bd3786"
             ],
             [
              0.5555555555555556,
              "#d8576b"
             ],
             [
              0.6666666666666666,
              "#ed7953"
             ],
             [
              0.7777777777777778,
              "#fb9f3a"
             ],
             [
              0.8888888888888888,
              "#fdca26"
             ],
             [
              1,
              "#f0f921"
             ]
            ],
            "type": "heatmap"
           }
          ],
          "histogram": [
           {
            "marker": {
             "pattern": {
              "fillmode": "overlay",
              "size": 10,
              "solidity": 0.2
             }
            },
            "type": "histogram"
           }
          ],
          "histogram2d": [
           {
            "colorbar": {
             "outlinewidth": 0,
             "ticks": ""
            },
            "colorscale": [
             [
              0,
              "#0d0887"
             ],
             [
              0.1111111111111111,
              "#46039f"
             ],
             [
              0.2222222222222222,
              "#7201a8"
             ],
             [
              0.3333333333333333,
              "#9c179e"
             ],
             [
              0.4444444444444444,
              "#bd3786"
             ],
             [
              0.5555555555555556,
              "#d8576b"
             ],
             [
              0.6666666666666666,
              "#ed7953"
             ],
             [
              0.7777777777777778,
              "#fb9f3a"
             ],
             [
              0.8888888888888888,
              "#fdca26"
             ],
             [
              1,
              "#f0f921"
             ]
            ],
            "type": "histogram2d"
           }
          ],
          "histogram2dcontour": [
           {
            "colorbar": {
             "outlinewidth": 0,
             "ticks": ""
            },
            "colorscale": [
             [
              0,
              "#0d0887"
             ],
             [
              0.1111111111111111,
              "#46039f"
             ],
             [
              0.2222222222222222,
              "#7201a8"
             ],
             [
              0.3333333333333333,
              "#9c179e"
             ],
             [
              0.4444444444444444,
              "#bd3786"
             ],
             [
              0.5555555555555556,
              "#d8576b"
             ],
             [
              0.6666666666666666,
              "#ed7953"
             ],
             [
              0.7777777777777778,
              "#fb9f3a"
             ],
             [
              0.8888888888888888,
              "#fdca26"
             ],
             [
              1,
              "#f0f921"
             ]
            ],
            "type": "histogram2dcontour"
           }
          ],
          "mesh3d": [
           {
            "colorbar": {
             "outlinewidth": 0,
             "ticks": ""
            },
            "type": "mesh3d"
           }
          ],
          "parcoords": [
           {
            "line": {
             "colorbar": {
              "outlinewidth": 0,
              "ticks": ""
             }
            },
            "type": "parcoords"
           }
          ],
          "pie": [
           {
            "automargin": true,
            "type": "pie"
           }
          ],
          "scatter": [
           {
            "fillpattern": {
             "fillmode": "overlay",
             "size": 10,
             "solidity": 0.2
            },
            "type": "scatter"
           }
          ],
          "scatter3d": [
           {
            "line": {
             "colorbar": {
              "outlinewidth": 0,
              "ticks": ""
             }
            },
            "marker": {
             "colorbar": {
              "outlinewidth": 0,
              "ticks": ""
             }
            },
            "type": "scatter3d"
           }
          ],
          "scattercarpet": [
           {
            "marker": {
             "colorbar": {
              "outlinewidth": 0,
              "ticks": ""
             }
            },
            "type": "scattercarpet"
           }
          ],
          "scattergeo": [
           {
            "marker": {
             "colorbar": {
              "outlinewidth": 0,
              "ticks": ""
             }
            },
            "type": "scattergeo"
           }
          ],
          "scattergl": [
           {
            "marker": {
             "colorbar": {
              "outlinewidth": 0,
              "ticks": ""
             }
            },
            "type": "scattergl"
           }
          ],
          "scattermap": [
           {
            "marker": {
             "colorbar": {
              "outlinewidth": 0,
              "ticks": ""
             }
            },
            "type": "scattermap"
           }
          ],
          "scattermapbox": [
           {
            "marker": {
             "colorbar": {
              "outlinewidth": 0,
              "ticks": ""
             }
            },
            "type": "scattermapbox"
           }
          ],
          "scatterpolar": [
           {
            "marker": {
             "colorbar": {
              "outlinewidth": 0,
              "ticks": ""
             }
            },
            "type": "scatterpolar"
           }
          ],
          "scatterpolargl": [
           {
            "marker": {
             "colorbar": {
              "outlinewidth": 0,
              "ticks": ""
             }
            },
            "type": "scatterpolargl"
           }
          ],
          "scatterternary": [
           {
            "marker": {
             "colorbar": {
              "outlinewidth": 0,
              "ticks": ""
             }
            },
            "type": "scatterternary"
           }
          ],
          "surface": [
           {
            "colorbar": {
             "outlinewidth": 0,
             "ticks": ""
            },
            "colorscale": [
             [
              0,
              "#0d0887"
             ],
             [
              0.1111111111111111,
              "#46039f"
             ],
             [
              0.2222222222222222,
              "#7201a8"
             ],
             [
              0.3333333333333333,
              "#9c179e"
             ],
             [
              0.4444444444444444,
              "#bd3786"
             ],
             [
              0.5555555555555556,
              "#d8576b"
             ],
             [
              0.6666666666666666,
              "#ed7953"
             ],
             [
              0.7777777777777778,
              "#fb9f3a"
             ],
             [
              0.8888888888888888,
              "#fdca26"
             ],
             [
              1,
              "#f0f921"
             ]
            ],
            "type": "surface"
           }
          ],
          "table": [
           {
            "cells": {
             "fill": {
              "color": "#EBF0F8"
             },
             "line": {
              "color": "white"
             }
            },
            "header": {
             "fill": {
              "color": "#C8D4E3"
             },
             "line": {
              "color": "white"
             }
            },
            "type": "table"
           }
          ]
         },
         "layout": {
          "annotationdefaults": {
           "arrowcolor": "#2a3f5f",
           "arrowhead": 0,
           "arrowwidth": 1
          },
          "autotypenumbers": "strict",
          "coloraxis": {
           "colorbar": {
            "outlinewidth": 0,
            "ticks": ""
           }
          },
          "colorscale": {
           "diverging": [
            [
             0,
             "#8e0152"
            ],
            [
             0.1,
             "#c51b7d"
            ],
            [
             0.2,
             "#de77ae"
            ],
            [
             0.3,
             "#f1b6da"
            ],
            [
             0.4,
             "#fde0ef"
            ],
            [
             0.5,
             "#f7f7f7"
            ],
            [
             0.6,
             "#e6f5d0"
            ],
            [
             0.7,
             "#b8e186"
            ],
            [
             0.8,
             "#7fbc41"
            ],
            [
             0.9,
             "#4d9221"
            ],
            [
             1,
             "#276419"
            ]
           ],
           "sequential": [
            [
             0,
             "#0d0887"
            ],
            [
             0.1111111111111111,
             "#46039f"
            ],
            [
             0.2222222222222222,
             "#7201a8"
            ],
            [
             0.3333333333333333,
             "#9c179e"
            ],
            [
             0.4444444444444444,
             "#bd3786"
            ],
            [
             0.5555555555555556,
             "#d8576b"
            ],
            [
             0.6666666666666666,
             "#ed7953"
            ],
            [
             0.7777777777777778,
             "#fb9f3a"
            ],
            [
             0.8888888888888888,
             "#fdca26"
            ],
            [
             1,
             "#f0f921"
            ]
           ],
           "sequentialminus": [
            [
             0,
             "#0d0887"
            ],
            [
             0.1111111111111111,
             "#46039f"
            ],
            [
             0.2222222222222222,
             "#7201a8"
            ],
            [
             0.3333333333333333,
             "#9c179e"
            ],
            [
             0.4444444444444444,
             "#bd3786"
            ],
            [
             0.5555555555555556,
             "#d8576b"
            ],
            [
             0.6666666666666666,
             "#ed7953"
            ],
            [
             0.7777777777777778,
             "#fb9f3a"
            ],
            [
             0.8888888888888888,
             "#fdca26"
            ],
            [
             1,
             "#f0f921"
            ]
           ]
          },
          "colorway": [
           "#636efa",
           "#EF553B",
           "#00cc96",
           "#ab63fa",
           "#FFA15A",
           "#19d3f3",
           "#FF6692",
           "#B6E880",
           "#FF97FF",
           "#FECB52"
          ],
          "font": {
           "color": "#2a3f5f"
          },
          "geo": {
           "bgcolor": "white",
           "lakecolor": "white",
           "landcolor": "#E5ECF6",
           "showlakes": true,
           "showland": true,
           "subunitcolor": "white"
          },
          "hoverlabel": {
           "align": "left"
          },
          "hovermode": "closest",
          "mapbox": {
           "style": "light"
          },
          "paper_bgcolor": "white",
          "plot_bgcolor": "#E5ECF6",
          "polar": {
           "angularaxis": {
            "gridcolor": "white",
            "linecolor": "white",
            "ticks": ""
           },
           "bgcolor": "#E5ECF6",
           "radialaxis": {
            "gridcolor": "white",
            "linecolor": "white",
            "ticks": ""
           }
          },
          "scene": {
           "xaxis": {
            "backgroundcolor": "#E5ECF6",
            "gridcolor": "white",
            "gridwidth": 2,
            "linecolor": "white",
            "showbackground": true,
            "ticks": "",
            "zerolinecolor": "white"
           },
           "yaxis": {
            "backgroundcolor": "#E5ECF6",
            "gridcolor": "white",
            "gridwidth": 2,
            "linecolor": "white",
            "showbackground": true,
            "ticks": "",
            "zerolinecolor": "white"
           },
           "zaxis": {
            "backgroundcolor": "#E5ECF6",
            "gridcolor": "white",
            "gridwidth": 2,
            "linecolor": "white",
            "showbackground": true,
            "ticks": "",
            "zerolinecolor": "white"
           }
          },
          "shapedefaults": {
           "line": {
            "color": "#2a3f5f"
           }
          },
          "ternary": {
           "aaxis": {
            "gridcolor": "white",
            "linecolor": "white",
            "ticks": ""
           },
           "baxis": {
            "gridcolor": "white",
            "linecolor": "white",
            "ticks": ""
           },
           "bgcolor": "#E5ECF6",
           "caxis": {
            "gridcolor": "white",
            "linecolor": "white",
            "ticks": ""
           }
          },
          "title": {
           "x": 0.05
          },
          "xaxis": {
           "automargin": true,
           "gridcolor": "white",
           "linecolor": "white",
           "ticks": "",
           "title": {
            "standoff": 15
           },
           "zerolinecolor": "white",
           "zerolinewidth": 2
          },
          "yaxis": {
           "automargin": true,
           "gridcolor": "white",
           "linecolor": "white",
           "ticks": "",
           "title": {
            "standoff": 15
           },
           "zerolinecolor": "white",
           "zerolinewidth": 2
          }
         }
        },
        "title": {
         "text": "Ventas de Bebidas No Alcohólicas\n<br><i>2022 a 2024</i>",
         "x": 0.5
        },
        "yaxis": {
         "title": {
          "text": "Ventas ($)"
         }
        }
       }
      }
     },
     "metadata": {},
     "output_type": "display_data"
    }
   ],
   "source": [
    "cola = df.query(\"Sabor == 'COLA'\").groupby(\"Fecha\").sum().reset_index()\n",
    "other = df.query(\"Sabor != 'COLA'\").groupby(\"Fecha\").sum().reset_index()\n",
    "\n",
    "fig = go.Figure()\n",
    "\n",
    "fig.add_trace(\n",
    "    go.Scatter(\n",
    "        name=\"Cola\",\n",
    "        mode=\"markers+lines\",\n",
    "        x=cola[\"Fecha\"],\n",
    "        y=cola[\"Vtas Valor\"],\n",
    "        marker_symbol=\"star\",\n",
    "    )\n",
    ")\n",
    "\n",
    "fig.add_trace(\n",
    "    go.Scatter(\n",
    "        name=\"Otros sabores\",\n",
    "        mode=\"markers+lines\",\n",
    "        x=other[\"Fecha\"],\n",
    "        y=other[\"Vtas Valor\"],\n",
    "        marker_symbol=\"star\",\n",
    "    )\n",
    ")\n",
    "\n",
    "title = \"Ventas de Bebidas No Alcohólicas\\n<br><i>2022 a 2024</i>\"\n",
    "fig.update_layout(\n",
    "    title=title,\n",
    "    title_x=0.5,\n",
    "    yaxis_title=\"Ventas ($)\",\n",
    "    barcornerradius=5,\n",
    "    paper_bgcolor=\"rgba(0,0,0,0)\",  # Transparent background\n",
    "    plot_bgcolor=\"rgba(0,0,0,0)\",\n",
    ")\n",
    "\n",
    "fig.add_vrect(\n",
    "    x0=\"2022-01-01\",\n",
    "    x1=\"2022-12-31\",\n",
    "    fillcolor=\"blue\",\n",
    "    opacity=0.1,\n",
    "    layer=\"below\",\n",
    "    line_width=0,\n",
    ")\n",
    "\n",
    "fig.add_vrect(\n",
    "    x0=\"2023-01-01\",\n",
    "    x1=\"2023-12-31\",\n",
    "    fillcolor=\"gray\",\n",
    "    opacity=0.1,\n",
    "    layer=\"below\",\n",
    "    line_width=0,\n",
    ")\n",
    "\n",
    "fig.add_vrect(\n",
    "    x0=\"2024-01-01\",\n",
    "    x1=\"2024-12-31\",\n",
    "    fillcolor=\"blue\",\n",
    "    opacity=0.1,\n",
    "    layer=\"below\",\n",
    "    line_width=0,\n",
    ")\n",
    "\n",
    "\n",
    "fig.write_image(\n",
    "    \"../img/01-questions/01-ventas-mes.png\",\n",
    "    scale=3,\n",
    "    width=1000,\n",
    "    height=600,\n",
    ")\n",
    "fig.show()"
   ]
  },
  {
   "cell_type": "markdown",
   "metadata": {},
   "source": [
    "## ¿Cuál es más sensible ante incrementos en precio?"
   ]
  },
  {
   "cell_type": "code",
   "execution_count": 34,
   "metadata": {},
   "outputs": [
    {
     "data": {
      "text/html": [
       "<div>\n",
       "<style scoped>\n",
       "    .dataframe tbody tr th:only-of-type {\n",
       "        vertical-align: middle;\n",
       "    }\n",
       "\n",
       "    .dataframe tbody tr th {\n",
       "        vertical-align: top;\n",
       "    }\n",
       "\n",
       "    .dataframe thead th {\n",
       "        text-align: right;\n",
       "    }\n",
       "</style>\n",
       "<table border=\"1\" class=\"dataframe\">\n",
       "  <thead>\n",
       "    <tr style=\"text-align: right;\">\n",
       "      <th></th>\n",
       "      <th>Fecha</th>\n",
       "      <th>Precio Unds Promedio</th>\n",
       "      <th>Vtas Valor</th>\n",
       "      <th>Last Vtas Valor</th>\n",
       "      <th>Last Precio Unds Promedio</th>\n",
       "      <th>Vtas Valor Growth</th>\n",
       "      <th>Precio Unds Promedio Change</th>\n",
       "      <th>Vtas Valor Growth per unit price change</th>\n",
       "    </tr>\n",
       "  </thead>\n",
       "  <tbody>\n",
       "    <tr>\n",
       "      <th>0</th>\n",
       "      <td>2021-12-01</td>\n",
       "      <td>48.03925</td>\n",
       "      <td>1.449692e+10</td>\n",
       "      <td>NaN</td>\n",
       "      <td>NaN</td>\n",
       "      <td>NaN</td>\n",
       "      <td>NaN</td>\n",
       "      <td>NaN</td>\n",
       "    </tr>\n",
       "    <tr>\n",
       "      <th>1</th>\n",
       "      <td>2022-01-01</td>\n",
       "      <td>49.69000</td>\n",
       "      <td>1.403562e+10</td>\n",
       "      <td>1.449692e+10</td>\n",
       "      <td>48.03925</td>\n",
       "      <td>-4.613012e+08</td>\n",
       "      <td>1.65075</td>\n",
       "      <td>-2.794494e+08</td>\n",
       "    </tr>\n",
       "    <tr>\n",
       "      <th>2</th>\n",
       "      <td>2022-02-01</td>\n",
       "      <td>52.74075</td>\n",
       "      <td>1.272066e+10</td>\n",
       "      <td>1.403562e+10</td>\n",
       "      <td>49.69000</td>\n",
       "      <td>-1.314961e+09</td>\n",
       "      <td>3.05075</td>\n",
       "      <td>-4.310287e+08</td>\n",
       "    </tr>\n",
       "    <tr>\n",
       "      <th>3</th>\n",
       "      <td>2022-03-01</td>\n",
       "      <td>49.34875</td>\n",
       "      <td>1.477094e+10</td>\n",
       "      <td>1.272066e+10</td>\n",
       "      <td>52.74075</td>\n",
       "      <td>2.050288e+09</td>\n",
       "      <td>3.39200</td>\n",
       "      <td>6.044480e+08</td>\n",
       "    </tr>\n",
       "    <tr>\n",
       "      <th>4</th>\n",
       "      <td>2022-04-01</td>\n",
       "      <td>49.63225</td>\n",
       "      <td>1.534501e+10</td>\n",
       "      <td>1.477094e+10</td>\n",
       "      <td>49.34875</td>\n",
       "      <td>5.740645e+08</td>\n",
       "      <td>0.28350</td>\n",
       "      <td>2.024919e+09</td>\n",
       "    </tr>\n",
       "    <tr>\n",
       "      <th>5</th>\n",
       "      <td>2022-05-01</td>\n",
       "      <td>51.50800</td>\n",
       "      <td>1.666867e+10</td>\n",
       "      <td>1.534501e+10</td>\n",
       "      <td>49.63225</td>\n",
       "      <td>1.323666e+09</td>\n",
       "      <td>1.87575</td>\n",
       "      <td>7.056731e+08</td>\n",
       "    </tr>\n",
       "    <tr>\n",
       "      <th>6</th>\n",
       "      <td>2022-06-01</td>\n",
       "      <td>49.96125</td>\n",
       "      <td>1.647689e+10</td>\n",
       "      <td>1.666867e+10</td>\n",
       "      <td>51.50800</td>\n",
       "      <td>-1.917884e+08</td>\n",
       "      <td>1.54675</td>\n",
       "      <td>-1.239944e+08</td>\n",
       "    </tr>\n",
       "    <tr>\n",
       "      <th>7</th>\n",
       "      <td>2022-07-01</td>\n",
       "      <td>50.24625</td>\n",
       "      <td>1.716693e+10</td>\n",
       "      <td>1.647689e+10</td>\n",
       "      <td>49.96125</td>\n",
       "      <td>6.900440e+08</td>\n",
       "      <td>0.28500</td>\n",
       "      <td>2.421207e+09</td>\n",
       "    </tr>\n",
       "    <tr>\n",
       "      <th>8</th>\n",
       "      <td>2022-08-01</td>\n",
       "      <td>51.51400</td>\n",
       "      <td>1.709344e+10</td>\n",
       "      <td>1.716693e+10</td>\n",
       "      <td>50.24625</td>\n",
       "      <td>-7.348593e+07</td>\n",
       "      <td>1.26775</td>\n",
       "      <td>-5.796563e+07</td>\n",
       "    </tr>\n",
       "    <tr>\n",
       "      <th>9</th>\n",
       "      <td>2022-09-01</td>\n",
       "      <td>51.67575</td>\n",
       "      <td>1.636239e+10</td>\n",
       "      <td>1.709344e+10</td>\n",
       "      <td>51.51400</td>\n",
       "      <td>-7.310520e+08</td>\n",
       "      <td>0.16175</td>\n",
       "      <td>-4.519641e+09</td>\n",
       "    </tr>\n",
       "    <tr>\n",
       "      <th>10</th>\n",
       "      <td>2022-10-01</td>\n",
       "      <td>52.66750</td>\n",
       "      <td>1.637976e+10</td>\n",
       "      <td>1.636239e+10</td>\n",
       "      <td>51.67575</td>\n",
       "      <td>1.737093e+07</td>\n",
       "      <td>0.99175</td>\n",
       "      <td>1.751543e+07</td>\n",
       "    </tr>\n",
       "    <tr>\n",
       "      <th>11</th>\n",
       "      <td>2022-11-01</td>\n",
       "      <td>52.57700</td>\n",
       "      <td>1.570368e+10</td>\n",
       "      <td>1.637976e+10</td>\n",
       "      <td>52.66750</td>\n",
       "      <td>-6.760818e+08</td>\n",
       "      <td>0.09050</td>\n",
       "      <td>-7.470517e+09</td>\n",
       "    </tr>\n",
       "    <tr>\n",
       "      <th>12</th>\n",
       "      <td>2022-12-01</td>\n",
       "      <td>52.32650</td>\n",
       "      <td>1.628623e+10</td>\n",
       "      <td>1.570368e+10</td>\n",
       "      <td>52.57700</td>\n",
       "      <td>5.825474e+08</td>\n",
       "      <td>0.25050</td>\n",
       "      <td>2.325539e+09</td>\n",
       "    </tr>\n",
       "    <tr>\n",
       "      <th>13</th>\n",
       "      <td>2023-01-01</td>\n",
       "      <td>52.83300</td>\n",
       "      <td>1.597754e+10</td>\n",
       "      <td>1.628623e+10</td>\n",
       "      <td>52.32650</td>\n",
       "      <td>-3.086912e+08</td>\n",
       "      <td>0.50650</td>\n",
       "      <td>-6.094594e+08</td>\n",
       "    </tr>\n",
       "    <tr>\n",
       "      <th>14</th>\n",
       "      <td>2023-02-01</td>\n",
       "      <td>52.64800</td>\n",
       "      <td>1.450247e+10</td>\n",
       "      <td>1.597754e+10</td>\n",
       "      <td>52.83300</td>\n",
       "      <td>-1.475068e+09</td>\n",
       "      <td>0.18500</td>\n",
       "      <td>-7.973342e+09</td>\n",
       "    </tr>\n",
       "    <tr>\n",
       "      <th>15</th>\n",
       "      <td>2023-03-01</td>\n",
       "      <td>53.48150</td>\n",
       "      <td>1.664826e+10</td>\n",
       "      <td>1.450247e+10</td>\n",
       "      <td>52.64800</td>\n",
       "      <td>2.145790e+09</td>\n",
       "      <td>0.83350</td>\n",
       "      <td>2.574433e+09</td>\n",
       "    </tr>\n",
       "    <tr>\n",
       "      <th>16</th>\n",
       "      <td>2023-04-01</td>\n",
       "      <td>53.82225</td>\n",
       "      <td>1.710524e+10</td>\n",
       "      <td>1.664826e+10</td>\n",
       "      <td>53.48150</td>\n",
       "      <td>4.569813e+08</td>\n",
       "      <td>0.34075</td>\n",
       "      <td>1.341104e+09</td>\n",
       "    </tr>\n",
       "    <tr>\n",
       "      <th>17</th>\n",
       "      <td>2023-05-01</td>\n",
       "      <td>54.72250</td>\n",
       "      <td>1.802651e+10</td>\n",
       "      <td>1.710524e+10</td>\n",
       "      <td>53.82225</td>\n",
       "      <td>9.212738e+08</td>\n",
       "      <td>0.90025</td>\n",
       "      <td>1.023353e+09</td>\n",
       "    </tr>\n",
       "    <tr>\n",
       "      <th>18</th>\n",
       "      <td>2023-06-01</td>\n",
       "      <td>54.10975</td>\n",
       "      <td>1.835174e+10</td>\n",
       "      <td>1.802651e+10</td>\n",
       "      <td>54.72250</td>\n",
       "      <td>3.252211e+08</td>\n",
       "      <td>0.61275</td>\n",
       "      <td>5.307566e+08</td>\n",
       "    </tr>\n",
       "    <tr>\n",
       "      <th>19</th>\n",
       "      <td>2023-07-01</td>\n",
       "      <td>54.66625</td>\n",
       "      <td>1.961986e+10</td>\n",
       "      <td>1.835174e+10</td>\n",
       "      <td>54.10975</td>\n",
       "      <td>1.268122e+09</td>\n",
       "      <td>0.55650</td>\n",
       "      <td>2.278746e+09</td>\n",
       "    </tr>\n",
       "    <tr>\n",
       "      <th>20</th>\n",
       "      <td>2023-08-01</td>\n",
       "      <td>55.79025</td>\n",
       "      <td>1.902245e+10</td>\n",
       "      <td>1.961986e+10</td>\n",
       "      <td>54.66625</td>\n",
       "      <td>-5.974110e+08</td>\n",
       "      <td>1.12400</td>\n",
       "      <td>-5.315044e+08</td>\n",
       "    </tr>\n",
       "    <tr>\n",
       "      <th>21</th>\n",
       "      <td>2023-09-01</td>\n",
       "      <td>56.27500</td>\n",
       "      <td>1.841942e+10</td>\n",
       "      <td>1.902245e+10</td>\n",
       "      <td>55.79025</td>\n",
       "      <td>-6.030249e+08</td>\n",
       "      <td>0.48475</td>\n",
       "      <td>-1.243992e+09</td>\n",
       "    </tr>\n",
       "    <tr>\n",
       "      <th>22</th>\n",
       "      <td>2023-10-01</td>\n",
       "      <td>56.96325</td>\n",
       "      <td>1.852800e+10</td>\n",
       "      <td>1.841942e+10</td>\n",
       "      <td>56.27500</td>\n",
       "      <td>1.085755e+08</td>\n",
       "      <td>0.68825</td>\n",
       "      <td>1.577560e+08</td>\n",
       "    </tr>\n",
       "    <tr>\n",
       "      <th>23</th>\n",
       "      <td>2023-11-01</td>\n",
       "      <td>58.52375</td>\n",
       "      <td>1.737043e+10</td>\n",
       "      <td>1.852800e+10</td>\n",
       "      <td>56.96325</td>\n",
       "      <td>-1.157563e+09</td>\n",
       "      <td>1.56050</td>\n",
       "      <td>-7.417900e+08</td>\n",
       "    </tr>\n",
       "    <tr>\n",
       "      <th>24</th>\n",
       "      <td>2023-12-01</td>\n",
       "      <td>67.39300</td>\n",
       "      <td>1.765946e+10</td>\n",
       "      <td>1.737043e+10</td>\n",
       "      <td>58.52375</td>\n",
       "      <td>2.890258e+08</td>\n",
       "      <td>8.86925</td>\n",
       "      <td>3.258740e+07</td>\n",
       "    </tr>\n",
       "    <tr>\n",
       "      <th>25</th>\n",
       "      <td>2024-01-01</td>\n",
       "      <td>64.67775</td>\n",
       "      <td>1.720797e+10</td>\n",
       "      <td>1.765946e+10</td>\n",
       "      <td>67.39300</td>\n",
       "      <td>-4.514876e+08</td>\n",
       "      <td>2.71525</td>\n",
       "      <td>-1.662785e+08</td>\n",
       "    </tr>\n",
       "    <tr>\n",
       "      <th>26</th>\n",
       "      <td>2024-02-01</td>\n",
       "      <td>62.83000</td>\n",
       "      <td>1.663199e+10</td>\n",
       "      <td>1.720797e+10</td>\n",
       "      <td>64.67775</td>\n",
       "      <td>-5.759812e+08</td>\n",
       "      <td>1.84775</td>\n",
       "      <td>-3.117203e+08</td>\n",
       "    </tr>\n",
       "    <tr>\n",
       "      <th>27</th>\n",
       "      <td>2024-03-01</td>\n",
       "      <td>62.78200</td>\n",
       "      <td>1.910432e+10</td>\n",
       "      <td>1.663199e+10</td>\n",
       "      <td>62.83000</td>\n",
       "      <td>2.472325e+09</td>\n",
       "      <td>0.04800</td>\n",
       "      <td>5.150677e+10</td>\n",
       "    </tr>\n",
       "    <tr>\n",
       "      <th>28</th>\n",
       "      <td>2024-04-01</td>\n",
       "      <td>62.03850</td>\n",
       "      <td>1.906245e+10</td>\n",
       "      <td>1.910432e+10</td>\n",
       "      <td>62.78200</td>\n",
       "      <td>-4.186846e+07</td>\n",
       "      <td>0.74350</td>\n",
       "      <td>-5.631266e+07</td>\n",
       "    </tr>\n",
       "    <tr>\n",
       "      <th>29</th>\n",
       "      <td>2024-05-01</td>\n",
       "      <td>62.75350</td>\n",
       "      <td>2.091599e+10</td>\n",
       "      <td>1.906245e+10</td>\n",
       "      <td>62.03850</td>\n",
       "      <td>1.853541e+09</td>\n",
       "      <td>0.71500</td>\n",
       "      <td>2.592365e+09</td>\n",
       "    </tr>\n",
       "    <tr>\n",
       "      <th>30</th>\n",
       "      <td>2024-06-01</td>\n",
       "      <td>63.16475</td>\n",
       "      <td>2.100572e+10</td>\n",
       "      <td>2.091599e+10</td>\n",
       "      <td>62.75350</td>\n",
       "      <td>8.973425e+07</td>\n",
       "      <td>0.41125</td>\n",
       "      <td>2.181988e+08</td>\n",
       "    </tr>\n",
       "    <tr>\n",
       "      <th>31</th>\n",
       "      <td>2024-07-01</td>\n",
       "      <td>63.69100</td>\n",
       "      <td>2.054981e+10</td>\n",
       "      <td>2.100572e+10</td>\n",
       "      <td>63.16475</td>\n",
       "      <td>-4.559143e+08</td>\n",
       "      <td>0.52625</td>\n",
       "      <td>-8.663454e+08</td>\n",
       "    </tr>\n",
       "    <tr>\n",
       "      <th>32</th>\n",
       "      <td>2024-08-01</td>\n",
       "      <td>63.53725</td>\n",
       "      <td>2.058218e+10</td>\n",
       "      <td>2.054981e+10</td>\n",
       "      <td>63.69100</td>\n",
       "      <td>3.237079e+07</td>\n",
       "      <td>0.15375</td>\n",
       "      <td>2.105417e+08</td>\n",
       "    </tr>\n",
       "    <tr>\n",
       "      <th>33</th>\n",
       "      <td>2024-09-01</td>\n",
       "      <td>64.17075</td>\n",
       "      <td>1.996668e+10</td>\n",
       "      <td>2.058218e+10</td>\n",
       "      <td>63.53725</td>\n",
       "      <td>-6.154983e+08</td>\n",
       "      <td>0.63350</td>\n",
       "      <td>-9.715838e+08</td>\n",
       "    </tr>\n",
       "    <tr>\n",
       "      <th>34</th>\n",
       "      <td>2024-10-01</td>\n",
       "      <td>64.98000</td>\n",
       "      <td>1.999049e+10</td>\n",
       "      <td>1.996668e+10</td>\n",
       "      <td>64.17075</td>\n",
       "      <td>2.380519e+07</td>\n",
       "      <td>0.80925</td>\n",
       "      <td>2.941635e+07</td>\n",
       "    </tr>\n",
       "    <tr>\n",
       "      <th>35</th>\n",
       "      <td>2024-11-01</td>\n",
       "      <td>77.29800</td>\n",
       "      <td>1.943682e+10</td>\n",
       "      <td>1.999049e+10</td>\n",
       "      <td>64.98000</td>\n",
       "      <td>-5.536697e+08</td>\n",
       "      <td>12.31800</td>\n",
       "      <td>-4.494802e+07</td>\n",
       "    </tr>\n",
       "    <tr>\n",
       "      <th>36</th>\n",
       "      <td>2024-12-01</td>\n",
       "      <td>78.43400</td>\n",
       "      <td>1.958957e+10</td>\n",
       "      <td>1.943682e+10</td>\n",
       "      <td>77.29800</td>\n",
       "      <td>1.527588e+08</td>\n",
       "      <td>1.13600</td>\n",
       "      <td>1.344708e+08</td>\n",
       "    </tr>\n",
       "  </tbody>\n",
       "</table>\n",
       "</div>"
      ],
      "text/plain": [
       "         Fecha  Precio Unds Promedio    Vtas Valor  Last Vtas Valor  \\\n",
       "0   2021-12-01              48.03925  1.449692e+10              NaN   \n",
       "1   2022-01-01              49.69000  1.403562e+10     1.449692e+10   \n",
       "2   2022-02-01              52.74075  1.272066e+10     1.403562e+10   \n",
       "3   2022-03-01              49.34875  1.477094e+10     1.272066e+10   \n",
       "4   2022-04-01              49.63225  1.534501e+10     1.477094e+10   \n",
       "5   2022-05-01              51.50800  1.666867e+10     1.534501e+10   \n",
       "6   2022-06-01              49.96125  1.647689e+10     1.666867e+10   \n",
       "7   2022-07-01              50.24625  1.716693e+10     1.647689e+10   \n",
       "8   2022-08-01              51.51400  1.709344e+10     1.716693e+10   \n",
       "9   2022-09-01              51.67575  1.636239e+10     1.709344e+10   \n",
       "10  2022-10-01              52.66750  1.637976e+10     1.636239e+10   \n",
       "11  2022-11-01              52.57700  1.570368e+10     1.637976e+10   \n",
       "12  2022-12-01              52.32650  1.628623e+10     1.570368e+10   \n",
       "13  2023-01-01              52.83300  1.597754e+10     1.628623e+10   \n",
       "14  2023-02-01              52.64800  1.450247e+10     1.597754e+10   \n",
       "15  2023-03-01              53.48150  1.664826e+10     1.450247e+10   \n",
       "16  2023-04-01              53.82225  1.710524e+10     1.664826e+10   \n",
       "17  2023-05-01              54.72250  1.802651e+10     1.710524e+10   \n",
       "18  2023-06-01              54.10975  1.835174e+10     1.802651e+10   \n",
       "19  2023-07-01              54.66625  1.961986e+10     1.835174e+10   \n",
       "20  2023-08-01              55.79025  1.902245e+10     1.961986e+10   \n",
       "21  2023-09-01              56.27500  1.841942e+10     1.902245e+10   \n",
       "22  2023-10-01              56.96325  1.852800e+10     1.841942e+10   \n",
       "23  2023-11-01              58.52375  1.737043e+10     1.852800e+10   \n",
       "24  2023-12-01              67.39300  1.765946e+10     1.737043e+10   \n",
       "25  2024-01-01              64.67775  1.720797e+10     1.765946e+10   \n",
       "26  2024-02-01              62.83000  1.663199e+10     1.720797e+10   \n",
       "27  2024-03-01              62.78200  1.910432e+10     1.663199e+10   \n",
       "28  2024-04-01              62.03850  1.906245e+10     1.910432e+10   \n",
       "29  2024-05-01              62.75350  2.091599e+10     1.906245e+10   \n",
       "30  2024-06-01              63.16475  2.100572e+10     2.091599e+10   \n",
       "31  2024-07-01              63.69100  2.054981e+10     2.100572e+10   \n",
       "32  2024-08-01              63.53725  2.058218e+10     2.054981e+10   \n",
       "33  2024-09-01              64.17075  1.996668e+10     2.058218e+10   \n",
       "34  2024-10-01              64.98000  1.999049e+10     1.996668e+10   \n",
       "35  2024-11-01              77.29800  1.943682e+10     1.999049e+10   \n",
       "36  2024-12-01              78.43400  1.958957e+10     1.943682e+10   \n",
       "\n",
       "    Last Precio Unds Promedio  Vtas Valor Growth  Precio Unds Promedio Change  \\\n",
       "0                         NaN                NaN                          NaN   \n",
       "1                    48.03925      -4.613012e+08                      1.65075   \n",
       "2                    49.69000      -1.314961e+09                      3.05075   \n",
       "3                    52.74075       2.050288e+09                      3.39200   \n",
       "4                    49.34875       5.740645e+08                      0.28350   \n",
       "5                    49.63225       1.323666e+09                      1.87575   \n",
       "6                    51.50800      -1.917884e+08                      1.54675   \n",
       "7                    49.96125       6.900440e+08                      0.28500   \n",
       "8                    50.24625      -7.348593e+07                      1.26775   \n",
       "9                    51.51400      -7.310520e+08                      0.16175   \n",
       "10                   51.67575       1.737093e+07                      0.99175   \n",
       "11                   52.66750      -6.760818e+08                      0.09050   \n",
       "12                   52.57700       5.825474e+08                      0.25050   \n",
       "13                   52.32650      -3.086912e+08                      0.50650   \n",
       "14                   52.83300      -1.475068e+09                      0.18500   \n",
       "15                   52.64800       2.145790e+09                      0.83350   \n",
       "16                   53.48150       4.569813e+08                      0.34075   \n",
       "17                   53.82225       9.212738e+08                      0.90025   \n",
       "18                   54.72250       3.252211e+08                      0.61275   \n",
       "19                   54.10975       1.268122e+09                      0.55650   \n",
       "20                   54.66625      -5.974110e+08                      1.12400   \n",
       "21                   55.79025      -6.030249e+08                      0.48475   \n",
       "22                   56.27500       1.085755e+08                      0.68825   \n",
       "23                   56.96325      -1.157563e+09                      1.56050   \n",
       "24                   58.52375       2.890258e+08                      8.86925   \n",
       "25                   67.39300      -4.514876e+08                      2.71525   \n",
       "26                   64.67775      -5.759812e+08                      1.84775   \n",
       "27                   62.83000       2.472325e+09                      0.04800   \n",
       "28                   62.78200      -4.186846e+07                      0.74350   \n",
       "29                   62.03850       1.853541e+09                      0.71500   \n",
       "30                   62.75350       8.973425e+07                      0.41125   \n",
       "31                   63.16475      -4.559143e+08                      0.52625   \n",
       "32                   63.69100       3.237079e+07                      0.15375   \n",
       "33                   63.53725      -6.154983e+08                      0.63350   \n",
       "34                   64.17075       2.380519e+07                      0.80925   \n",
       "35                   64.98000      -5.536697e+08                     12.31800   \n",
       "36                   77.29800       1.527588e+08                      1.13600   \n",
       "\n",
       "    Vtas Valor Growth per unit price change  \n",
       "0                                       NaN  \n",
       "1                             -2.794494e+08  \n",
       "2                             -4.310287e+08  \n",
       "3                              6.044480e+08  \n",
       "4                              2.024919e+09  \n",
       "5                              7.056731e+08  \n",
       "6                             -1.239944e+08  \n",
       "7                              2.421207e+09  \n",
       "8                             -5.796563e+07  \n",
       "9                             -4.519641e+09  \n",
       "10                             1.751543e+07  \n",
       "11                            -7.470517e+09  \n",
       "12                             2.325539e+09  \n",
       "13                            -6.094594e+08  \n",
       "14                            -7.973342e+09  \n",
       "15                             2.574433e+09  \n",
       "16                             1.341104e+09  \n",
       "17                             1.023353e+09  \n",
       "18                             5.307566e+08  \n",
       "19                             2.278746e+09  \n",
       "20                            -5.315044e+08  \n",
       "21                            -1.243992e+09  \n",
       "22                             1.577560e+08  \n",
       "23                            -7.417900e+08  \n",
       "24                             3.258740e+07  \n",
       "25                            -1.662785e+08  \n",
       "26                            -3.117203e+08  \n",
       "27                             5.150677e+10  \n",
       "28                            -5.631266e+07  \n",
       "29                             2.592365e+09  \n",
       "30                             2.181988e+08  \n",
       "31                            -8.663454e+08  \n",
       "32                             2.105417e+08  \n",
       "33                            -9.715838e+08  \n",
       "34                             2.941635e+07  \n",
       "35                            -4.494802e+07  \n",
       "36                             1.344708e+08  "
      ]
     },
     "execution_count": 34,
     "metadata": {},
     "output_type": "execute_result"
    }
   ],
   "source": [
    "cola = (\n",
    "    df.query(\"Sabor == 'COLA'\")\n",
    "    .groupby(\"Fecha\")\n",
    "    .aggregate(\n",
    "        {\n",
    "            \"Precio Unds Promedio\": \"mean\",\n",
    "            \"Vtas Valor\": \"sum\",\n",
    "        }\n",
    "    )\n",
    "    .reset_index()\n",
    ")\n",
    "\n",
    "cola[\"Last Vtas Valor\"] = cola[\"Vtas Valor\"].shift(1)\n",
    "cola[\"Last Precio Unds Promedio\"] = cola[\"Precio Unds Promedio\"].shift(1)\n",
    "\n",
    "cola[\"Vtas Valor Growth\"] = cola[\"Vtas Valor\"] - cola[\"Last Vtas Valor\"]\n",
    "cola[\"Precio Unds Promedio Change\"] = (\n",
    "    cola[\"Precio Unds Promedio\"] - cola[\"Last Precio Unds Promedio\"]\n",
    ").abs()\n",
    "\n",
    "cola[\"Vtas Valor Growth per unit price change\"] = (\n",
    "    cola[\"Vtas Valor Growth\"] / cola[\"Precio Unds Promedio Change\"]\n",
    ")\n",
    "\n",
    "other = (\n",
    "    df.query(\"Sabor != 'COLA'\")\n",
    "    .groupby(\"Fecha\")\n",
    "    .aggregate(\n",
    "        {\n",
    "            \"Precio Unds Promedio\": \"mean\",\n",
    "            \"Vtas Valor\": \"sum\",\n",
    "        }\n",
    "    )\n",
    "    .reset_index()\n",
    ")\n",
    "\n",
    "other[\"Last Vtas Valor\"] = other[\"Vtas Valor\"].shift(1)\n",
    "other[\"Last Precio Unds Promedio\"] = other[\"Precio Unds Promedio\"].shift(1)\n",
    "\n",
    "other[\"Vtas Valor Growth\"] = other[\"Vtas Valor\"] - other[\"Last Vtas Valor\"]\n",
    "other[\"Precio Unds Promedio Change\"] = (\n",
    "    other[\"Precio Unds Promedio\"] - other[\"Last Precio Unds Promedio\"]\n",
    ").abs()\n",
    "\n",
    "other[\"Vtas Valor Growth per unit price change\"] = (\n",
    "    other[\"Vtas Valor Growth\"] / other[\"Precio Unds Promedio Change\"]\n",
    ")\n",
    "\n",
    "cola"
   ]
  },
  {
   "cell_type": "code",
   "execution_count": 39,
   "metadata": {},
   "outputs": [
    {
     "data": {
      "application/vnd.plotly.v1+json": {
       "config": {
        "plotlyServerURL": "https://plot.ly"
       },
       "data": [
        {
         "marker": {
          "symbol": "star"
         },
         "mode": "markers+lines",
         "name": "Cola",
         "type": "scatter",
         "x": [
          "2021-12-01",
          "2022-01-01",
          "2022-02-01",
          "2022-03-01",
          "2022-04-01",
          "2022-05-01",
          "2022-06-01",
          "2022-07-01",
          "2022-08-01",
          "2022-09-01",
          "2022-10-01",
          "2022-11-01",
          "2022-12-01",
          "2023-01-01",
          "2023-02-01",
          "2023-03-01",
          "2023-04-01",
          "2023-05-01",
          "2023-06-01",
          "2023-07-01",
          "2023-08-01",
          "2023-09-01",
          "2023-10-01",
          "2023-11-01",
          "2023-12-01",
          "2024-01-01",
          "2024-02-01",
          "2024-03-01",
          "2024-04-01",
          "2024-05-01",
          "2024-06-01",
          "2024-07-01",
          "2024-08-01",
          "2024-09-01",
          "2024-10-01",
          "2024-11-01",
          "2024-12-01"
         ],
         "y": {
          "bdata": "AAAAAAAA+H+VJ4xnD6iwwVqzywr6sLnByiEZg5IDwkFWepDRcyzeQdyJ6rrbB8VBom4nBQWQncHKvdH8FQriQZXwi/Tho4vBK+SSFUTW8MHOYnM8OrRwQcdE9rRw1PvBnTp53ZxT4UGO209dzinCwQLvq8j4s/3BLE6Bk1cu40Euw5oa6PvTQfSDhPqQf85BXUEw9rOiv0FLK6TGXPrgQYeqTRsdrr/BI6Rnh3OJ0sEX7NOBVM6iQaEmqJhoG8bBz7GydOgTf0FSSxRvatKjwaoao215lLLBscmW4RX8J0J/1RSpGtqKwUz04jqLUONBOrjnA+YCqkFuDTTUsNHJweXwnGE5GalBDDk9lpj0zMFEHr4sug18QWozFKLRboXBfL99+rgHoEE=",
          "dtype": "f8"
         }
        },
        {
         "marker": {
          "symbol": "star"
         },
         "mode": "markers+lines",
         "name": "Otros sabores",
         "type": "scatter",
         "x": [
          "2021-12-01",
          "2022-01-01",
          "2022-02-01",
          "2022-03-01",
          "2022-04-01",
          "2022-05-01",
          "2022-06-01",
          "2022-07-01",
          "2022-08-01",
          "2022-09-01",
          "2022-10-01",
          "2022-11-01",
          "2022-12-01",
          "2023-01-01",
          "2023-02-01",
          "2023-03-01",
          "2023-04-01",
          "2023-05-01",
          "2023-06-01",
          "2023-07-01",
          "2023-08-01",
          "2023-09-01",
          "2023-10-01",
          "2023-11-01",
          "2023-12-01",
          "2024-01-01",
          "2024-02-01",
          "2024-03-01",
          "2024-04-01",
          "2024-05-01",
          "2024-06-01",
          "2024-07-01",
          "2024-08-01",
          "2024-09-01",
          "2024-10-01",
          "2024-11-01",
          "2024-12-01"
         ],
         "y": {
          "bdata": "AAAAAAAA+H8WlK+YesWHQa3vSxtDMfHBE2z8mL1FzEGeIhR3M6v2QabjLco9w/1BZDUfpV0q4MGm87geccinQbwU/zTUAeDB/gf+puo9s8Fbxqep/hSjwTpeRxYqacLBULiDld0IokG17R4zddNgwZjK++nCOcLBY3gOSE/e5EEm992VmEbHQS4oqRkWI/RB1sECMO/d50Eo8cjOEuIwweMNQAUFrL7BSwRQ7OSV0MF74U/G4UrEwYhP+7fUJgHCLmxGrbs2sEEvkUuDa8eFQUyVUOPa1tPBHq1k7Jc560Enf9fwvFjHQbzhndWniu5B85uId/MMlMFXfV6CX6XlwSOdcqRt/hPC2p5nvlgPrcHvyeQQhcSvwSQRPyY3lKvBCt9ms30SpkE=",
          "dtype": "f8"
         }
        }
       ],
       "layout": {
        "barcornerradius": 5,
        "paper_bgcolor": "rgba(0,0,0,0)",
        "plot_bgcolor": "rgba(0,0,0,0)",
        "shapes": [
         {
          "fillcolor": "blue",
          "layer": "below",
          "line": {
           "width": 0
          },
          "opacity": 0.1,
          "type": "rect",
          "x0": "2022-01-01",
          "x1": "2022-12-31",
          "xref": "x",
          "y0": 0,
          "y1": 1,
          "yref": "y domain"
         },
         {
          "fillcolor": "gray",
          "layer": "below",
          "line": {
           "width": 0
          },
          "opacity": 0.1,
          "type": "rect",
          "x0": "2023-01-01",
          "x1": "2023-12-31",
          "xref": "x",
          "y0": 0,
          "y1": 1,
          "yref": "y domain"
         },
         {
          "fillcolor": "blue",
          "layer": "below",
          "line": {
           "width": 0
          },
          "opacity": 0.1,
          "type": "rect",
          "x0": "2024-01-01",
          "x1": "2024-12-31",
          "xref": "x",
          "y0": 0,
          "y1": 1,
          "yref": "y domain"
         }
        ],
        "template": {
         "data": {
          "bar": [
           {
            "error_x": {
             "color": "#2a3f5f"
            },
            "error_y": {
             "color": "#2a3f5f"
            },
            "marker": {
             "line": {
              "color": "#E5ECF6",
              "width": 0.5
             },
             "pattern": {
              "fillmode": "overlay",
              "size": 10,
              "solidity": 0.2
             }
            },
            "type": "bar"
           }
          ],
          "barpolar": [
           {
            "marker": {
             "line": {
              "color": "#E5ECF6",
              "width": 0.5
             },
             "pattern": {
              "fillmode": "overlay",
              "size": 10,
              "solidity": 0.2
             }
            },
            "type": "barpolar"
           }
          ],
          "carpet": [
           {
            "aaxis": {
             "endlinecolor": "#2a3f5f",
             "gridcolor": "white",
             "linecolor": "white",
             "minorgridcolor": "white",
             "startlinecolor": "#2a3f5f"
            },
            "baxis": {
             "endlinecolor": "#2a3f5f",
             "gridcolor": "white",
             "linecolor": "white",
             "minorgridcolor": "white",
             "startlinecolor": "#2a3f5f"
            },
            "type": "carpet"
           }
          ],
          "choropleth": [
           {
            "colorbar": {
             "outlinewidth": 0,
             "ticks": ""
            },
            "type": "choropleth"
           }
          ],
          "contour": [
           {
            "colorbar": {
             "outlinewidth": 0,
             "ticks": ""
            },
            "colorscale": [
             [
              0,
              "#0d0887"
             ],
             [
              0.1111111111111111,
              "#46039f"
             ],
             [
              0.2222222222222222,
              "#7201a8"
             ],
             [
              0.3333333333333333,
              "#9c179e"
             ],
             [
              0.4444444444444444,
              "#bd3786"
             ],
             [
              0.5555555555555556,
              "#d8576b"
             ],
             [
              0.6666666666666666,
              "#ed7953"
             ],
             [
              0.7777777777777778,
              "#fb9f3a"
             ],
             [
              0.8888888888888888,
              "#fdca26"
             ],
             [
              1,
              "#f0f921"
             ]
            ],
            "type": "contour"
           }
          ],
          "contourcarpet": [
           {
            "colorbar": {
             "outlinewidth": 0,
             "ticks": ""
            },
            "type": "contourcarpet"
           }
          ],
          "heatmap": [
           {
            "colorbar": {
             "outlinewidth": 0,
             "ticks": ""
            },
            "colorscale": [
             [
              0,
              "#0d0887"
             ],
             [
              0.1111111111111111,
              "#46039f"
             ],
             [
              0.2222222222222222,
              "#7201a8"
             ],
             [
              0.3333333333333333,
              "#9c179e"
             ],
             [
              0.4444444444444444,
              "#bd3786"
             ],
             [
              0.5555555555555556,
              "#d8576b"
             ],
             [
              0.6666666666666666,
              "#ed7953"
             ],
             [
              0.7777777777777778,
              "#fb9f3a"
             ],
             [
              0.8888888888888888,
              "#fdca26"
             ],
             [
              1,
              "#f0f921"
             ]
            ],
            "type": "heatmap"
           }
          ],
          "histogram": [
           {
            "marker": {
             "pattern": {
              "fillmode": "overlay",
              "size": 10,
              "solidity": 0.2
             }
            },
            "type": "histogram"
           }
          ],
          "histogram2d": [
           {
            "colorbar": {
             "outlinewidth": 0,
             "ticks": ""
            },
            "colorscale": [
             [
              0,
              "#0d0887"
             ],
             [
              0.1111111111111111,
              "#46039f"
             ],
             [
              0.2222222222222222,
              "#7201a8"
             ],
             [
              0.3333333333333333,
              "#9c179e"
             ],
             [
              0.4444444444444444,
              "#bd3786"
             ],
             [
              0.5555555555555556,
              "#d8576b"
             ],
             [
              0.6666666666666666,
              "#ed7953"
             ],
             [
              0.7777777777777778,
              "#fb9f3a"
             ],
             [
              0.8888888888888888,
              "#fdca26"
             ],
             [
              1,
              "#f0f921"
             ]
            ],
            "type": "histogram2d"
           }
          ],
          "histogram2dcontour": [
           {
            "colorbar": {
             "outlinewidth": 0,
             "ticks": ""
            },
            "colorscale": [
             [
              0,
              "#0d0887"
             ],
             [
              0.1111111111111111,
              "#46039f"
             ],
             [
              0.2222222222222222,
              "#7201a8"
             ],
             [
              0.3333333333333333,
              "#9c179e"
             ],
             [
              0.4444444444444444,
              "#bd3786"
             ],
             [
              0.5555555555555556,
              "#d8576b"
             ],
             [
              0.6666666666666666,
              "#ed7953"
             ],
             [
              0.7777777777777778,
              "#fb9f3a"
             ],
             [
              0.8888888888888888,
              "#fdca26"
             ],
             [
              1,
              "#f0f921"
             ]
            ],
            "type": "histogram2dcontour"
           }
          ],
          "mesh3d": [
           {
            "colorbar": {
             "outlinewidth": 0,
             "ticks": ""
            },
            "type": "mesh3d"
           }
          ],
          "parcoords": [
           {
            "line": {
             "colorbar": {
              "outlinewidth": 0,
              "ticks": ""
             }
            },
            "type": "parcoords"
           }
          ],
          "pie": [
           {
            "automargin": true,
            "type": "pie"
           }
          ],
          "scatter": [
           {
            "fillpattern": {
             "fillmode": "overlay",
             "size": 10,
             "solidity": 0.2
            },
            "type": "scatter"
           }
          ],
          "scatter3d": [
           {
            "line": {
             "colorbar": {
              "outlinewidth": 0,
              "ticks": ""
             }
            },
            "marker": {
             "colorbar": {
              "outlinewidth": 0,
              "ticks": ""
             }
            },
            "type": "scatter3d"
           }
          ],
          "scattercarpet": [
           {
            "marker": {
             "colorbar": {
              "outlinewidth": 0,
              "ticks": ""
             }
            },
            "type": "scattercarpet"
           }
          ],
          "scattergeo": [
           {
            "marker": {
             "colorbar": {
              "outlinewidth": 0,
              "ticks": ""
             }
            },
            "type": "scattergeo"
           }
          ],
          "scattergl": [
           {
            "marker": {
             "colorbar": {
              "outlinewidth": 0,
              "ticks": ""
             }
            },
            "type": "scattergl"
           }
          ],
          "scattermap": [
           {
            "marker": {
             "colorbar": {
              "outlinewidth": 0,
              "ticks": ""
             }
            },
            "type": "scattermap"
           }
          ],
          "scattermapbox": [
           {
            "marker": {
             "colorbar": {
              "outlinewidth": 0,
              "ticks": ""
             }
            },
            "type": "scattermapbox"
           }
          ],
          "scatterpolar": [
           {
            "marker": {
             "colorbar": {
              "outlinewidth": 0,
              "ticks": ""
             }
            },
            "type": "scatterpolar"
           }
          ],
          "scatterpolargl": [
           {
            "marker": {
             "colorbar": {
              "outlinewidth": 0,
              "ticks": ""
             }
            },
            "type": "scatterpolargl"
           }
          ],
          "scatterternary": [
           {
            "marker": {
             "colorbar": {
              "outlinewidth": 0,
              "ticks": ""
             }
            },
            "type": "scatterternary"
           }
          ],
          "surface": [
           {
            "colorbar": {
             "outlinewidth": 0,
             "ticks": ""
            },
            "colorscale": [
             [
              0,
              "#0d0887"
             ],
             [
              0.1111111111111111,
              "#46039f"
             ],
             [
              0.2222222222222222,
              "#7201a8"
             ],
             [
              0.3333333333333333,
              "#9c179e"
             ],
             [
              0.4444444444444444,
              "#bd3786"
             ],
             [
              0.5555555555555556,
              "#d8576b"
             ],
             [
              0.6666666666666666,
              "#ed7953"
             ],
             [
              0.7777777777777778,
              "#fb9f3a"
             ],
             [
              0.8888888888888888,
              "#fdca26"
             ],
             [
              1,
              "#f0f921"
             ]
            ],
            "type": "surface"
           }
          ],
          "table": [
           {
            "cells": {
             "fill": {
              "color": "#EBF0F8"
             },
             "line": {
              "color": "white"
             }
            },
            "header": {
             "fill": {
              "color": "#C8D4E3"
             },
             "line": {
              "color": "white"
             }
            },
            "type": "table"
           }
          ]
         },
         "layout": {
          "annotationdefaults": {
           "arrowcolor": "#2a3f5f",
           "arrowhead": 0,
           "arrowwidth": 1
          },
          "autotypenumbers": "strict",
          "coloraxis": {
           "colorbar": {
            "outlinewidth": 0,
            "ticks": ""
           }
          },
          "colorscale": {
           "diverging": [
            [
             0,
             "#8e0152"
            ],
            [
             0.1,
             "#c51b7d"
            ],
            [
             0.2,
             "#de77ae"
            ],
            [
             0.3,
             "#f1b6da"
            ],
            [
             0.4,
             "#fde0ef"
            ],
            [
             0.5,
             "#f7f7f7"
            ],
            [
             0.6,
             "#e6f5d0"
            ],
            [
             0.7,
             "#b8e186"
            ],
            [
             0.8,
             "#7fbc41"
            ],
            [
             0.9,
             "#4d9221"
            ],
            [
             1,
             "#276419"
            ]
           ],
           "sequential": [
            [
             0,
             "#0d0887"
            ],
            [
             0.1111111111111111,
             "#46039f"
            ],
            [
             0.2222222222222222,
             "#7201a8"
            ],
            [
             0.3333333333333333,
             "#9c179e"
            ],
            [
             0.4444444444444444,
             "#bd3786"
            ],
            [
             0.5555555555555556,
             "#d8576b"
            ],
            [
             0.6666666666666666,
             "#ed7953"
            ],
            [
             0.7777777777777778,
             "#fb9f3a"
            ],
            [
             0.8888888888888888,
             "#fdca26"
            ],
            [
             1,
             "#f0f921"
            ]
           ],
           "sequentialminus": [
            [
             0,
             "#0d0887"
            ],
            [
             0.1111111111111111,
             "#46039f"
            ],
            [
             0.2222222222222222,
             "#7201a8"
            ],
            [
             0.3333333333333333,
             "#9c179e"
            ],
            [
             0.4444444444444444,
             "#bd3786"
            ],
            [
             0.5555555555555556,
             "#d8576b"
            ],
            [
             0.6666666666666666,
             "#ed7953"
            ],
            [
             0.7777777777777778,
             "#fb9f3a"
            ],
            [
             0.8888888888888888,
             "#fdca26"
            ],
            [
             1,
             "#f0f921"
            ]
           ]
          },
          "colorway": [
           "#636efa",
           "#EF553B",
           "#00cc96",
           "#ab63fa",
           "#FFA15A",
           "#19d3f3",
           "#FF6692",
           "#B6E880",
           "#FF97FF",
           "#FECB52"
          ],
          "font": {
           "color": "#2a3f5f"
          },
          "geo": {
           "bgcolor": "white",
           "lakecolor": "white",
           "landcolor": "#E5ECF6",
           "showlakes": true,
           "showland": true,
           "subunitcolor": "white"
          },
          "hoverlabel": {
           "align": "left"
          },
          "hovermode": "closest",
          "mapbox": {
           "style": "light"
          },
          "paper_bgcolor": "white",
          "plot_bgcolor": "#E5ECF6",
          "polar": {
           "angularaxis": {
            "gridcolor": "white",
            "linecolor": "white",
            "ticks": ""
           },
           "bgcolor": "#E5ECF6",
           "radialaxis": {
            "gridcolor": "white",
            "linecolor": "white",
            "ticks": ""
           }
          },
          "scene": {
           "xaxis": {
            "backgroundcolor": "#E5ECF6",
            "gridcolor": "white",
            "gridwidth": 2,
            "linecolor": "white",
            "showbackground": true,
            "ticks": "",
            "zerolinecolor": "white"
           },
           "yaxis": {
            "backgroundcolor": "#E5ECF6",
            "gridcolor": "white",
            "gridwidth": 2,
            "linecolor": "white",
            "showbackground": true,
            "ticks": "",
            "zerolinecolor": "white"
           },
           "zaxis": {
            "backgroundcolor": "#E5ECF6",
            "gridcolor": "white",
            "gridwidth": 2,
            "linecolor": "white",
            "showbackground": true,
            "ticks": "",
            "zerolinecolor": "white"
           }
          },
          "shapedefaults": {
           "line": {
            "color": "#2a3f5f"
           }
          },
          "ternary": {
           "aaxis": {
            "gridcolor": "white",
            "linecolor": "white",
            "ticks": ""
           },
           "baxis": {
            "gridcolor": "white",
            "linecolor": "white",
            "ticks": ""
           },
           "bgcolor": "#E5ECF6",
           "caxis": {
            "gridcolor": "white",
            "linecolor": "white",
            "ticks": ""
           }
          },
          "title": {
           "x": 0.05
          },
          "xaxis": {
           "automargin": true,
           "gridcolor": "white",
           "linecolor": "white",
           "ticks": "",
           "title": {
            "standoff": 15
           },
           "zerolinecolor": "white",
           "zerolinewidth": 2
          },
          "yaxis": {
           "automargin": true,
           "gridcolor": "white",
           "linecolor": "white",
           "ticks": "",
           "title": {
            "standoff": 15
           },
           "zerolinecolor": "white",
           "zerolinewidth": 2
          }
         }
        },
        "title": {
         "text": "Crecimiento de Ventas por Cambio de Precios\n<br><i>2022 a 2024</i>",
         "x": 0.5
        },
        "yaxis": {
         "title": {
          "text": "Ventas ($) / Cambio de precio"
         }
        }
       }
      }
     },
     "metadata": {},
     "output_type": "display_data"
    }
   ],
   "source": [
    "fig = go.Figure()\n",
    "\n",
    "fig.add_trace(\n",
    "    go.Scatter(\n",
    "        name=\"Cola\",\n",
    "        mode=\"markers+lines\",\n",
    "        x=cola[\"Fecha\"],\n",
    "        y=cola[\"Vtas Valor Growth per unit price change\"],\n",
    "        marker_symbol=\"star\",\n",
    "    )\n",
    ")\n",
    "\n",
    "fig.add_trace(\n",
    "    go.Scatter(\n",
    "        name=\"Otros sabores\",\n",
    "        mode=\"markers+lines\",\n",
    "        x=other[\"Fecha\"],\n",
    "        y=other[\"Vtas Valor Growth per unit price change\"],\n",
    "        marker_symbol=\"star\",\n",
    "    )\n",
    ")\n",
    "\n",
    "title = \"Crecimiento de Ventas por Cambio de Precios\\n<br><i>2022 a 2024</i>\"\n",
    "fig.update_layout(\n",
    "    title=title,\n",
    "    title_x=0.5,\n",
    "    yaxis_title=\"Ventas ($) / Cambio de precio\",\n",
    "    barcornerradius=5,\n",
    "    paper_bgcolor=\"rgba(0,0,0,0)\",  # Transparent background\n",
    "    plot_bgcolor=\"rgba(0,0,0,0)\",\n",
    ")\n",
    "\n",
    "fig.add_vrect(\n",
    "    x0=\"2022-01-01\",\n",
    "    x1=\"2022-12-31\",\n",
    "    fillcolor=\"blue\",\n",
    "    opacity=0.1,\n",
    "    layer=\"below\",\n",
    "    line_width=0,\n",
    ")\n",
    "\n",
    "fig.add_vrect(\n",
    "    x0=\"2023-01-01\",\n",
    "    x1=\"2023-12-31\",\n",
    "    fillcolor=\"gray\",\n",
    "    opacity=0.1,\n",
    "    layer=\"below\",\n",
    "    line_width=0,\n",
    ")\n",
    "\n",
    "fig.add_vrect(\n",
    "    x0=\"2024-01-01\",\n",
    "    x1=\"2024-12-31\",\n",
    "    fillcolor=\"blue\",\n",
    "    opacity=0.1,\n",
    "    layer=\"below\",\n",
    "    line_width=0,\n",
    ")\n",
    "\n",
    "\n",
    "fig.write_image(\n",
    "    \"../img/01-questions/02-sensibilidad-precios.png\",\n",
    "    scale=3,\n",
    "    width=1000,\n",
    "    height=600,\n",
    ")\n",
    "\n",
    "fig.show()"
   ]
  },
  {
   "cell_type": "code",
   "execution_count": null,
   "metadata": {},
   "outputs": [
    {
     "data": {
      "text/html": [
       "<div>\n",
       "<style scoped>\n",
       "    .dataframe tbody tr th:only-of-type {\n",
       "        vertical-align: middle;\n",
       "    }\n",
       "\n",
       "    .dataframe tbody tr th {\n",
       "        vertical-align: top;\n",
       "    }\n",
       "\n",
       "    .dataframe thead th {\n",
       "        text-align: right;\n",
       "    }\n",
       "</style>\n",
       "<table border=\"1\" class=\"dataframe\">\n",
       "  <thead>\n",
       "    <tr style=\"text-align: right;\">\n",
       "      <th></th>\n",
       "      <th>Fecha</th>\n",
       "      <th>Vtas Unds</th>\n",
       "      <th>Vtas Valor</th>\n",
       "    </tr>\n",
       "  </thead>\n",
       "  <tbody>\n",
       "    <tr>\n",
       "      <th>0</th>\n",
       "      <td>2022-04-01</td>\n",
       "      <td>8.208119e+08</td>\n",
       "      <td>1.534501e+10</td>\n",
       "    </tr>\n",
       "    <tr>\n",
       "      <th>1</th>\n",
       "      <td>2022-05-01</td>\n",
       "      <td>8.872521e+08</td>\n",
       "      <td>1.666867e+10</td>\n",
       "    </tr>\n",
       "    <tr>\n",
       "      <th>2</th>\n",
       "      <td>2022-06-01</td>\n",
       "      <td>8.682882e+08</td>\n",
       "      <td>1.647689e+10</td>\n",
       "    </tr>\n",
       "    <tr>\n",
       "      <th>3</th>\n",
       "      <td>2022-07-01</td>\n",
       "      <td>8.927093e+08</td>\n",
       "      <td>1.716693e+10</td>\n",
       "    </tr>\n",
       "    <tr>\n",
       "      <th>4</th>\n",
       "      <td>2022-08-01</td>\n",
       "      <td>8.772189e+08</td>\n",
       "      <td>1.709344e+10</td>\n",
       "    </tr>\n",
       "    <tr>\n",
       "      <th>5</th>\n",
       "      <td>2023-04-01</td>\n",
       "      <td>8.244527e+08</td>\n",
       "      <td>1.710524e+10</td>\n",
       "    </tr>\n",
       "    <tr>\n",
       "      <th>6</th>\n",
       "      <td>2023-05-01</td>\n",
       "      <td>8.634423e+08</td>\n",
       "      <td>1.802651e+10</td>\n",
       "    </tr>\n",
       "    <tr>\n",
       "      <th>7</th>\n",
       "      <td>2023-06-01</td>\n",
       "      <td>8.767476e+08</td>\n",
       "      <td>1.835174e+10</td>\n",
       "    </tr>\n",
       "    <tr>\n",
       "      <th>8</th>\n",
       "      <td>2023-07-01</td>\n",
       "      <td>9.286125e+08</td>\n",
       "      <td>1.961986e+10</td>\n",
       "    </tr>\n",
       "    <tr>\n",
       "      <th>9</th>\n",
       "      <td>2023-08-01</td>\n",
       "      <td>8.949635e+08</td>\n",
       "      <td>1.902245e+10</td>\n",
       "    </tr>\n",
       "    <tr>\n",
       "      <th>10</th>\n",
       "      <td>2024-04-01</td>\n",
       "      <td>8.534529e+08</td>\n",
       "      <td>1.906245e+10</td>\n",
       "    </tr>\n",
       "    <tr>\n",
       "      <th>11</th>\n",
       "      <td>2024-05-01</td>\n",
       "      <td>9.332427e+08</td>\n",
       "      <td>2.091599e+10</td>\n",
       "    </tr>\n",
       "    <tr>\n",
       "      <th>12</th>\n",
       "      <td>2024-06-01</td>\n",
       "      <td>9.321545e+08</td>\n",
       "      <td>2.100572e+10</td>\n",
       "    </tr>\n",
       "    <tr>\n",
       "      <th>13</th>\n",
       "      <td>2024-07-01</td>\n",
       "      <td>9.005708e+08</td>\n",
       "      <td>2.054981e+10</td>\n",
       "    </tr>\n",
       "    <tr>\n",
       "      <th>14</th>\n",
       "      <td>2024-08-01</td>\n",
       "      <td>8.961247e+08</td>\n",
       "      <td>2.058218e+10</td>\n",
       "    </tr>\n",
       "  </tbody>\n",
       "</table>\n",
       "</div>"
      ],
      "text/plain": [
       "        Fecha     Vtas Unds    Vtas Valor\n",
       "0  2022-04-01  8.208119e+08  1.534501e+10\n",
       "1  2022-05-01  8.872521e+08  1.666867e+10\n",
       "2  2022-06-01  8.682882e+08  1.647689e+10\n",
       "3  2022-07-01  8.927093e+08  1.716693e+10\n",
       "4  2022-08-01  8.772189e+08  1.709344e+10\n",
       "5  2023-04-01  8.244527e+08  1.710524e+10\n",
       "6  2023-05-01  8.634423e+08  1.802651e+10\n",
       "7  2023-06-01  8.767476e+08  1.835174e+10\n",
       "8  2023-07-01  9.286125e+08  1.961986e+10\n",
       "9  2023-08-01  8.949635e+08  1.902245e+10\n",
       "10 2024-04-01  8.534529e+08  1.906245e+10\n",
       "11 2024-05-01  9.332427e+08  2.091599e+10\n",
       "12 2024-06-01  9.321545e+08  2.100572e+10\n",
       "13 2024-07-01  9.005708e+08  2.054981e+10\n",
       "14 2024-08-01  8.961247e+08  2.058218e+10"
      ]
     },
     "execution_count": 51,
     "metadata": {},
     "output_type": "execute_result"
    }
   ],
   "source": [
    "RELEVANT_MONTHS = [4, 5, 6, 7, 8]\n",
    "\n",
    "cola = (\n",
    "    df.query(\"Sabor == 'COLA'\")\n",
    "    .astype({\"Fecha\": \"datetime64[ns]\"})\n",
    "    .query(\"Fecha.dt.month.isin(@RELEVANT_MONTHS)\")\n",
    "    .groupby(\"Fecha\")\n",
    "    .aggregate(\n",
    "        {\n",
    "            \"Vtas Unds\": \"sum\",\n",
    "            \"Vtas Valor\": \"sum\",\n",
    "        }\n",
    "    )\n",
    "    .reset_index()\n",
    ")\n",
    "\n",
    "cola\n"
   ]
  },
  {
   "cell_type": "code",
   "execution_count": null,
   "metadata": {},
   "outputs": [],
   "source": [
    "# cola = df.query(\"Sabor == 'COLA'\").groupby(\"Fecha\")[\"Vtas Valor\"].sum().reset_index()\n",
    "# cola[\"Last Vtas Valor\"] = cola[\"Vtas Valor\"].shift(1)\n",
    "# cola[\"Diff Vtas Valor\"] = cola[\"Vtas Valor\"] - cola[\"Last Vtas Valor\"]\n",
    "\n",
    "# other = df.query(\"Sabor != 'COLA'\").groupby(\"Fecha\")[\"Vtas Valor\"].sum().reset_index()\n",
    "# other[\"Last Vtas Valor\"] = other[\"Vtas Valor\"].shift(1)\n",
    "# other[\"Diff Vtas Valor\"] = other[\"Vtas Valor\"] - other[\"Last Vtas Valor\"]\n",
    "\n",
    "# fig = go.Figure()\n",
    "\n",
    "# fig.add_trace(\n",
    "#     go.Scatter(\n",
    "#         name=\"Cola\",\n",
    "#         mode=\"markers+lines\",\n",
    "#         x=cola[\"Fecha\"],\n",
    "#         y=cola[\"Diff Vtas Valor\"],\n",
    "#         marker_symbol=\"star\",\n",
    "#     )\n",
    "# )\n",
    "\n",
    "# fig.add_trace(\n",
    "#     go.Scatter(\n",
    "#         name=\"Otros sabores\",\n",
    "#         mode=\"markers+lines\",\n",
    "#         x=other[\"Fecha\"],\n",
    "#         y=other[\"Diff Vtas Valor\"],\n",
    "#         marker_symbol=\"star\",\n",
    "#     )\n",
    "# )\n",
    "\n",
    "# title = \"Crecimiento de Ventas por Cambio de Precios\\n<br><i>2022 a 2024</i>\"\n",
    "# fig.update_layout(\n",
    "#     title=title,\n",
    "#     title_x=0.5,\n",
    "#     yaxis_title=\"Ventas ($) / Cambio de precio\",\n",
    "#     barcornerradius=5,\n",
    "#     paper_bgcolor=\"rgba(0,0,0,0)\",  # Transparent background\n",
    "#     plot_bgcolor=\"rgba(0,0,0,0)\",\n",
    "# )\n",
    "\n",
    "# fig.add_vrect(\n",
    "#     x0=\"2022-01-01\",\n",
    "#     x1=\"2022-12-31\",\n",
    "#     fillcolor=\"blue\",\n",
    "#     opacity=0.1,\n",
    "#     layer=\"below\",\n",
    "#     line_width=0,\n",
    "# )\n",
    "\n",
    "# fig.add_vrect(\n",
    "#     x0=\"2023-01-01\",\n",
    "#     x1=\"2023-12-31\",\n",
    "#     fillcolor=\"gray\",\n",
    "#     opacity=0.1,\n",
    "#     layer=\"below\",\n",
    "#     line_width=0,\n",
    "# )\n",
    "\n",
    "# fig.add_vrect(\n",
    "#     x0=\"2024-01-01\",\n",
    "#     x1=\"2024-12-31\",\n",
    "#     fillcolor=\"blue\",\n",
    "#     opacity=0.1,\n",
    "#     layer=\"below\",\n",
    "#     line_width=0,\n",
    "# )\n",
    "\n",
    "\n",
    "# fig"
   ]
  }
 ],
 "metadata": {
  "kernelspec": {
   "display_name": ".venv",
   "language": "python",
   "name": "python3"
  },
  "language_info": {
   "codemirror_mode": {
    "name": "ipython",
    "version": 3
   },
   "file_extension": ".py",
   "mimetype": "text/x-python",
   "name": "python",
   "nbconvert_exporter": "python",
   "pygments_lexer": "ipython3",
   "version": "3.11.11"
  }
 },
 "nbformat": 4,
 "nbformat_minor": 2
}
